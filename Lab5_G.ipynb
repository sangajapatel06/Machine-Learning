{
  "nbformat": 4,
  "nbformat_minor": 0,
  "metadata": {
    "colab": {
      "name": "Lab5_G.ipynb",
      "provenance": [],
      "authorship_tag": "ABX9TyO6y4dXJw/I09n3jbhFIX/C",
      "include_colab_link": true
    },
    "kernelspec": {
      "name": "python3",
      "display_name": "Python 3"
    },
    "language_info": {
      "name": "python"
    }
  },
  "cells": [
    {
      "cell_type": "markdown",
      "metadata": {
        "id": "view-in-github",
        "colab_type": "text"
      },
      "source": [
        "<a href=\"https://colab.research.google.com/github/sangajapatel06/Machine-Learning/blob/main/Lab5_G.ipynb\" target=\"_parent\"><img src=\"https://colab.research.google.com/assets/colab-badge.svg\" alt=\"Open In Colab\"/></a>"
      ]
    },
    {
      "cell_type": "code",
      "metadata": {
        "colab": {
          "base_uri": "https://localhost:8080/"
        },
        "id": "3lNNWo-bP29d",
        "outputId": "67e54d9d-9077-4f84-a4f2-d5a50950398e"
      },
      "source": [
        "from sklearn.datasets import load_boston\n",
        "\n",
        "X,y = load_boston(return_X_y=True)\n",
        "print (X.shape)\n",
        "\n",
        "# from sklearn import datasets\n",
        "# boston = datasets.load_boston(return_X_y=False)\n",
        "\n"
      ],
      "execution_count": null,
      "outputs": [
        {
          "output_type": "stream",
          "name": "stdout",
          "text": [
            "(506, 13)\n"
          ]
        }
      ]
    },
    {
      "cell_type": "code",
      "metadata": {
        "colab": {
          "base_uri": "https://localhost:8080/"
        },
        "id": "e-QcP22ZQmKi",
        "outputId": "49fe16a7-a513-41d7-f900-f4026c6793bb"
      },
      "source": [
        "Num_features = X.shape[1]\n",
        "m=X.shape[0]\n",
        "print(Num_features)\n",
        "print(m)"
      ],
      "execution_count": null,
      "outputs": [
        {
          "output_type": "stream",
          "name": "stdout",
          "text": [
            "13\n",
            "506\n"
          ]
        }
      ]
    },
    {
      "cell_type": "code",
      "metadata": {
        "colab": {
          "base_uri": "https://localhost:8080/"
        },
        "id": "qVL_xOLLQzxL",
        "outputId": "4407ed06-2244-43df-fc9f-7a5d7f8d42b9"
      },
      "source": [
        " y"
      ],
      "execution_count": null,
      "outputs": [
        {
          "output_type": "execute_result",
          "data": {
            "text/plain": [
              "array([24. , 21.6, 34.7, 33.4, 36.2, 28.7, 22.9, 27.1, 16.5, 18.9, 15. ,\n",
              "       18.9, 21.7, 20.4, 18.2, 19.9, 23.1, 17.5, 20.2, 18.2, 13.6, 19.6,\n",
              "       15.2, 14.5, 15.6, 13.9, 16.6, 14.8, 18.4, 21. , 12.7, 14.5, 13.2,\n",
              "       13.1, 13.5, 18.9, 20. , 21. , 24.7, 30.8, 34.9, 26.6, 25.3, 24.7,\n",
              "       21.2, 19.3, 20. , 16.6, 14.4, 19.4, 19.7, 20.5, 25. , 23.4, 18.9,\n",
              "       35.4, 24.7, 31.6, 23.3, 19.6, 18.7, 16. , 22.2, 25. , 33. , 23.5,\n",
              "       19.4, 22. , 17.4, 20.9, 24.2, 21.7, 22.8, 23.4, 24.1, 21.4, 20. ,\n",
              "       20.8, 21.2, 20.3, 28. , 23.9, 24.8, 22.9, 23.9, 26.6, 22.5, 22.2,\n",
              "       23.6, 28.7, 22.6, 22. , 22.9, 25. , 20.6, 28.4, 21.4, 38.7, 43.8,\n",
              "       33.2, 27.5, 26.5, 18.6, 19.3, 20.1, 19.5, 19.5, 20.4, 19.8, 19.4,\n",
              "       21.7, 22.8, 18.8, 18.7, 18.5, 18.3, 21.2, 19.2, 20.4, 19.3, 22. ,\n",
              "       20.3, 20.5, 17.3, 18.8, 21.4, 15.7, 16.2, 18. , 14.3, 19.2, 19.6,\n",
              "       23. , 18.4, 15.6, 18.1, 17.4, 17.1, 13.3, 17.8, 14. , 14.4, 13.4,\n",
              "       15.6, 11.8, 13.8, 15.6, 14.6, 17.8, 15.4, 21.5, 19.6, 15.3, 19.4,\n",
              "       17. , 15.6, 13.1, 41.3, 24.3, 23.3, 27. , 50. , 50. , 50. , 22.7,\n",
              "       25. , 50. , 23.8, 23.8, 22.3, 17.4, 19.1, 23.1, 23.6, 22.6, 29.4,\n",
              "       23.2, 24.6, 29.9, 37.2, 39.8, 36.2, 37.9, 32.5, 26.4, 29.6, 50. ,\n",
              "       32. , 29.8, 34.9, 37. , 30.5, 36.4, 31.1, 29.1, 50. , 33.3, 30.3,\n",
              "       34.6, 34.9, 32.9, 24.1, 42.3, 48.5, 50. , 22.6, 24.4, 22.5, 24.4,\n",
              "       20. , 21.7, 19.3, 22.4, 28.1, 23.7, 25. , 23.3, 28.7, 21.5, 23. ,\n",
              "       26.7, 21.7, 27.5, 30.1, 44.8, 50. , 37.6, 31.6, 46.7, 31.5, 24.3,\n",
              "       31.7, 41.7, 48.3, 29. , 24. , 25.1, 31.5, 23.7, 23.3, 22. , 20.1,\n",
              "       22.2, 23.7, 17.6, 18.5, 24.3, 20.5, 24.5, 26.2, 24.4, 24.8, 29.6,\n",
              "       42.8, 21.9, 20.9, 44. , 50. , 36. , 30.1, 33.8, 43.1, 48.8, 31. ,\n",
              "       36.5, 22.8, 30.7, 50. , 43.5, 20.7, 21.1, 25.2, 24.4, 35.2, 32.4,\n",
              "       32. , 33.2, 33.1, 29.1, 35.1, 45.4, 35.4, 46. , 50. , 32.2, 22. ,\n",
              "       20.1, 23.2, 22.3, 24.8, 28.5, 37.3, 27.9, 23.9, 21.7, 28.6, 27.1,\n",
              "       20.3, 22.5, 29. , 24.8, 22. , 26.4, 33.1, 36.1, 28.4, 33.4, 28.2,\n",
              "       22.8, 20.3, 16.1, 22.1, 19.4, 21.6, 23.8, 16.2, 17.8, 19.8, 23.1,\n",
              "       21. , 23.8, 23.1, 20.4, 18.5, 25. , 24.6, 23. , 22.2, 19.3, 22.6,\n",
              "       19.8, 17.1, 19.4, 22.2, 20.7, 21.1, 19.5, 18.5, 20.6, 19. , 18.7,\n",
              "       32.7, 16.5, 23.9, 31.2, 17.5, 17.2, 23.1, 24.5, 26.6, 22.9, 24.1,\n",
              "       18.6, 30.1, 18.2, 20.6, 17.8, 21.7, 22.7, 22.6, 25. , 19.9, 20.8,\n",
              "       16.8, 21.9, 27.5, 21.9, 23.1, 50. , 50. , 50. , 50. , 50. , 13.8,\n",
              "       13.8, 15. , 13.9, 13.3, 13.1, 10.2, 10.4, 10.9, 11.3, 12.3,  8.8,\n",
              "        7.2, 10.5,  7.4, 10.2, 11.5, 15.1, 23.2,  9.7, 13.8, 12.7, 13.1,\n",
              "       12.5,  8.5,  5. ,  6.3,  5.6,  7.2, 12.1,  8.3,  8.5,  5. , 11.9,\n",
              "       27.9, 17.2, 27.5, 15. , 17.2, 17.9, 16.3,  7. ,  7.2,  7.5, 10.4,\n",
              "        8.8,  8.4, 16.7, 14.2, 20.8, 13.4, 11.7,  8.3, 10.2, 10.9, 11. ,\n",
              "        9.5, 14.5, 14.1, 16.1, 14.3, 11.7, 13.4,  9.6,  8.7,  8.4, 12.8,\n",
              "       10.5, 17.1, 18.4, 15.4, 10.8, 11.8, 14.9, 12.6, 14.1, 13. , 13.4,\n",
              "       15.2, 16.1, 17.8, 14.9, 14.1, 12.7, 13.5, 14.9, 20. , 16.4, 17.7,\n",
              "       19.5, 20.2, 21.4, 19.9, 19. , 19.1, 19.1, 20.1, 19.9, 19.6, 23.2,\n",
              "       29.8, 13.8, 13.3, 16.7, 12. , 14.6, 21.4, 23. , 23.7, 25. , 21.8,\n",
              "       20.6, 21.2, 19.1, 20.6, 15.2,  7. ,  8.1, 13.6, 20.1, 21.8, 24.5,\n",
              "       23.1, 19.7, 18.3, 21.2, 17.5, 16.8, 22.4, 20.6, 23.9, 22. , 11.9])"
            ]
          },
          "metadata": {},
          "execution_count": 52
        }
      ]
    },
    {
      "cell_type": "code",
      "metadata": {
        "colab": {
          "base_uri": "https://localhost:8080/"
        },
        "id": "HQ-pSWgQQ1o5",
        "outputId": "0107ffd6-3ef8-4238-c28c-000964ca2b34"
      },
      "source": [
        "X"
      ],
      "execution_count": null,
      "outputs": [
        {
          "output_type": "execute_result",
          "data": {
            "text/plain": [
              "array([[6.3200e-03, 1.8000e+01, 2.3100e+00, ..., 1.5300e+01, 3.9690e+02,\n",
              "        4.9800e+00],\n",
              "       [2.7310e-02, 0.0000e+00, 7.0700e+00, ..., 1.7800e+01, 3.9690e+02,\n",
              "        9.1400e+00],\n",
              "       [2.7290e-02, 0.0000e+00, 7.0700e+00, ..., 1.7800e+01, 3.9283e+02,\n",
              "        4.0300e+00],\n",
              "       ...,\n",
              "       [6.0760e-02, 0.0000e+00, 1.1930e+01, ..., 2.1000e+01, 3.9690e+02,\n",
              "        5.6400e+00],\n",
              "       [1.0959e-01, 0.0000e+00, 1.1930e+01, ..., 2.1000e+01, 3.9345e+02,\n",
              "        6.4800e+00],\n",
              "       [4.7410e-02, 0.0000e+00, 1.1930e+01, ..., 2.1000e+01, 3.9690e+02,\n",
              "        7.8800e+00]])"
            ]
          },
          "metadata": {},
          "execution_count": 53
        }
      ]
    },
    {
      "cell_type": "code",
      "metadata": {
        "id": "O12uC4g7Uq7q"
      },
      "source": [
        "# shuffled_X,y = X,y.sample(frac=1)\n",
        "# train_size = int(30/100 * len(df))\n",
        "# validation_size = int(10/100 * len(df))\n",
        "# test_size = int(60/100 * len(df))\n",
        "# train = shuffled_df[:train_size]\n",
        "# validation = shuffled_df[train_size:train_size+validation_size]\n",
        "# test = shuffled_df[train_size + validation_size:]"
      ],
      "execution_count": null,
      "outputs": []
    },
    {
      "cell_type": "code",
      "metadata": {
        "id": "TB0_HL-lVPVH"
      },
      "source": [
        "# from sklearn.cross_validation import train_test_split\n",
        "\n",
        "# # TODO: Shuffle and split the data into training and testing subsets\n",
        "# X_train, X_test, y_train, y_test = train_test_split(features, prices, test_size=0.2, random_state=10)\n",
        "\n",
        "# # Success\n",
        "# print (\"Training and testing split was successful.\")"
      ],
      "execution_count": null,
      "outputs": []
    },
    {
      "cell_type": "code",
      "metadata": {
        "colab": {
          "base_uri": "https://localhost:8080/"
        },
        "id": "tAeYqCvsXZjQ",
        "outputId": "a76037f8-a2ae-420f-fdfa-5752000cba8e"
      },
      "source": [
        "from sklearn.model_selection import train_test_split\n",
        "X_train, X_rem, Y_train, Y_rem = train_test_split(X,y, train_size=0.3)\n",
        "X_valid, X_test, Y_valid, Y_test = train_test_split(X_rem,Y_rem, test_size=0.857)\n",
        "print(X_train.shape), print(Y_train.shape)\n",
        "print(X_valid.shape), print(Y_valid.shape)\n",
        "print(X_test.shape), print(Y_test.shape)"
      ],
      "execution_count": null,
      "outputs": [
        {
          "output_type": "stream",
          "name": "stdout",
          "text": [
            "(151, 13)\n",
            "(151,)\n",
            "(50, 13)\n",
            "(50,)\n",
            "(305, 13)\n",
            "(305,)\n"
          ]
        },
        {
          "output_type": "execute_result",
          "data": {
            "text/plain": [
              "(None, None)"
            ]
          },
          "metadata": {},
          "execution_count": 56
        }
      ]
    },
    {
      "cell_type": "code",
      "metadata": {
        "id": "S88Bck96dxzF"
      },
      "source": [
        ""
      ],
      "execution_count": null,
      "outputs": []
    },
    {
      "cell_type": "code",
      "metadata": {
        "id": "buLn-FdFaDRr"
      },
      "source": [
        "# import numpy as np\n",
        "# import matplotlib.pyplot as plt \n",
        "# import pandas as pd\n",
        "# import seaborn as sns\n",
        "# from sklearn.datasets import load_boston\n",
        "# boston_dataset = load_boston()\n",
        "# from sklearn.metrics import r2_score\n",
        "\n",
        "# #print(boston_dataset.keys())\n",
        "# boston = pd.DataFrame(boston_dataset.data, columns=boston_dataset.feature_names)\n",
        "# #boston.head()\n",
        "# boston['MEDV'] = boston_dataset.target\n",
        "\n",
        "# #correlation_matrix = boston.corr().round(2)\n",
        "# # annot = True to print the values inside the square\n",
        "# #sns.heatmap(data=correlation_matrix, annot=True)\n",
        "\n",
        "# plt.figure(figsize=(20, 5))\n",
        "\n",
        "# features = ['LSTAT', 'RM']\n",
        "# target = boston['MEDV']\n",
        "\n",
        "# for i, col in enumerate(features):\n",
        "#     plt.subplot(1, len(features) , i+1)\n",
        "#     x = boston[col]\n",
        "#     y = target\n",
        "#     plt.scatter(x, y, marker='o')\n",
        "#     plt.title(col)\n",
        "#     plt.xlabel(col)\n",
        "#     plt.ylabel('MEDV')\n",
        "\n",
        "# X = pd.DataFrame(np.c_[boston['LSTAT'], boston['RM']], columns = ['LSTAT','RM'])\n",
        "# Y = boston['MEDV']\n",
        "\n",
        "# from sklearn.model_selection import train_test_split\n",
        "\n",
        "# X_train, X_test, Y_train, Y_test = train_test_split(X, Y, test_size = 0.2, random_state=5)\n",
        "# print(X_train.shape)\n",
        "# print(X_test.shape)\n",
        "# print(Y_train.shape)\n",
        "# print(Y_test.shape)\n",
        "\n",
        "# from sklearn.linear_model import LinearRegression\n",
        "# from sklearn.metrics import mean_squared_error\n",
        "\n",
        "# lin_model = LinearRegression()\n",
        "# lin_model.fit(X_train, Y_train)\n",
        "\n",
        "# # model evaluation for training set\n",
        "# y_train_predict = lin_model.predict(X_train)\n",
        "# rmse = (np.sqrt(mean_squared_error(Y_train, y_train_predict)))\n",
        "# r2 = r2_score(Y_train, y_train_predict)\n",
        "\n",
        "# print(\"The model performance for training set\")\n",
        "# print(\"--------------------------------------\")\n",
        "# print('RMSE is {}'.format(rmse))\n",
        "# print('R2 score is {}'.format(r2))\n",
        "# print(\"\\n\")\n",
        "\n",
        "# # model evaluation for testing set\n",
        "# y_test_predict = lin_model.predict(X_test)\n",
        "# rmse = (np.sqrt(mean_squared_error(Y_test, y_test_predict)))\n",
        "# r2 = r2_score(Y_test, y_test_predict)\n",
        "\n",
        "# print(\"The model performance for testing set\")\n",
        "# print(\"--------------------------------------\")\n",
        "# print('RMSE is {}'.format(rmse))\n",
        "# print('R2 score is {}'.format(r2))"
      ],
      "execution_count": null,
      "outputs": []
    },
    {
      "cell_type": "code",
      "metadata": {
        "id": "ufC07IN4cwNj"
      },
      "source": [
        "# # -*- coding: utf-8 -*-\n",
        "\n",
        "\n",
        "# from sklearn.datasets import load_boston\n",
        "# X, y = load_boston(return_X_y=True)\n",
        "# print(X.shape)\n",
        "# print(y.shape)\n",
        "\n",
        "# No_of_features= X.shape[1]\n",
        "# m= X.shape[0]\n",
        "# print(No_of_features)\n",
        "# print(m)\n",
        "\n",
        "# import random\n",
        "# weights=[]\n",
        "# for x in range(0, No_of_features+1):\n",
        "#    random.seed(x)\n",
        "#    weights.append(random.uniform(0,1))\n",
        "\n",
        "# print(weights)\n",
        "\n",
        "# import numpy as np\n",
        "# X= np.hstack([np.ones((506,1)), X])\n",
        "# print(X.shape)\n",
        "\n",
        "# def J(X,y,weights):\n",
        "#   Y_predict= np.matmul(X,weights)\n",
        "#   cost= (1/(2*m)) *sum((Y_predict- y)**2)\n",
        "#   return cost\n",
        "\n",
        "# J(X,y,weights)\n",
        "\n",
        "# def updateWeights(X,y,weights,alpha,epochs,rho):\n",
        "#   cost_array=[]\n",
        "#   for i in range(epochs):\n",
        "#      Y_predict= np.matmul(X,weights)\n",
        "#      grad= (1/m)*(np.matmul(np.transpose(X),(Y_predict- y)))\n",
        "#      weights= weights-alpha*grad\n",
        "#      cost_array.append(J(X,y,weights))\n",
        "#      if abs(cost_array[i-1]-cost_array[i])< rho:\n",
        "#        break\n",
        "     \n",
        "     \n",
        "\n",
        "#   return weights\n",
        "\n",
        "# updateWeights(X,y,weights,0.1,10,0.5)\n",
        "# print(cost_array)\n",
        "\n",
        "# X[0]\n",
        "\n"
      ],
      "execution_count": null,
      "outputs": []
    },
    {
      "cell_type": "code",
      "metadata": {
        "id": "zqKupgMqdznT"
      },
      "source": [
        "from sklearn.datasets import load_boston\n",
        "boston_dataset = load_boston()\n",
        "boston = pd.DataFrame(boston_dataset.data, columns=boston_dataset.feature_names)\n",
        "\n",
        "import pandas as pd\n",
        "import numpy as np"
      ],
      "execution_count": null,
      "outputs": []
    },
    {
      "cell_type": "code",
      "metadata": {
        "id": "fuX9Estmd7gJ"
      },
      "source": [
        "boston['MEDV'] = boston_dataset.target\n",
        "X = pd.DataFrame(np.c_[boston['LSTAT'], boston['RM']], columns = ['LSTAT','RM'])\n",
        "Y = boston['MEDV']"
      ],
      "execution_count": null,
      "outputs": []
    },
    {
      "cell_type": "code",
      "metadata": {
        "colab": {
          "base_uri": "https://localhost:8080/"
        },
        "id": "99T8PV16hAQE",
        "outputId": "64f28206-f72b-4a4d-b76c-224709c2c5b7"
      },
      "source": [
        "print(boston_dataset.DESCR)"
      ],
      "execution_count": null,
      "outputs": [
        {
          "output_type": "stream",
          "name": "stdout",
          "text": [
            ".. _boston_dataset:\n",
            "\n",
            "Boston house prices dataset\n",
            "---------------------------\n",
            "\n",
            "**Data Set Characteristics:**  \n",
            "\n",
            "    :Number of Instances: 506 \n",
            "\n",
            "    :Number of Attributes: 13 numeric/categorical predictive. Median Value (attribute 14) is usually the target.\n",
            "\n",
            "    :Attribute Information (in order):\n",
            "        - CRIM     per capita crime rate by town\n",
            "        - ZN       proportion of residential land zoned for lots over 25,000 sq.ft.\n",
            "        - INDUS    proportion of non-retail business acres per town\n",
            "        - CHAS     Charles River dummy variable (= 1 if tract bounds river; 0 otherwise)\n",
            "        - NOX      nitric oxides concentration (parts per 10 million)\n",
            "        - RM       average number of rooms per dwelling\n",
            "        - AGE      proportion of owner-occupied units built prior to 1940\n",
            "        - DIS      weighted distances to five Boston employment centres\n",
            "        - RAD      index of accessibility to radial highways\n",
            "        - TAX      full-value property-tax rate per $10,000\n",
            "        - PTRATIO  pupil-teacher ratio by town\n",
            "        - B        1000(Bk - 0.63)^2 where Bk is the proportion of blacks by town\n",
            "        - LSTAT    % lower status of the population\n",
            "        - MEDV     Median value of owner-occupied homes in $1000's\n",
            "\n",
            "    :Missing Attribute Values: None\n",
            "\n",
            "    :Creator: Harrison, D. and Rubinfeld, D.L.\n",
            "\n",
            "This is a copy of UCI ML housing dataset.\n",
            "https://archive.ics.uci.edu/ml/machine-learning-databases/housing/\n",
            "\n",
            "\n",
            "This dataset was taken from the StatLib library which is maintained at Carnegie Mellon University.\n",
            "\n",
            "The Boston house-price data of Harrison, D. and Rubinfeld, D.L. 'Hedonic\n",
            "prices and the demand for clean air', J. Environ. Economics & Management,\n",
            "vol.5, 81-102, 1978.   Used in Belsley, Kuh & Welsch, 'Regression diagnostics\n",
            "...', Wiley, 1980.   N.B. Various transformations are used in the table on\n",
            "pages 244-261 of the latter.\n",
            "\n",
            "The Boston house-price data has been used in many machine learning papers that address regression\n",
            "problems.   \n",
            "     \n",
            ".. topic:: References\n",
            "\n",
            "   - Belsley, Kuh & Welsch, 'Regression diagnostics: Identifying Influential Data and Sources of Collinearity', Wiley, 1980. 244-261.\n",
            "   - Quinlan,R. (1993). Combining Instance-Based and Model-Based Learning. In Proceedings on the Tenth International Conference of Machine Learning, 236-243, University of Massachusetts, Amherst. Morgan Kaufmann.\n",
            "\n"
          ]
        }
      ]
    },
    {
      "cell_type": "code",
      "metadata": {
        "id": "vVyaLqYkeAE_"
      },
      "source": [
        "# Splitting the data into training set and test set\n",
        "from sklearn.model_selection import train_test_split\n",
        "# x, x_test, y, y_test = train_test_split(xtrain,labels,test_size=0.3,train_size=0.7)\n",
        "def train_val_test_split(X, y, train_size, val_size, test_size):\n",
        "    X_train_val, X_test, y_train_val, y_test = train_test_split(X, y, test_size = test_size)\n",
        "    relative_train_size = train_size / (val_size + train_size)\n",
        "    X_train, X_val, y_train, y_val = train_test_split(X_train_val, y_train_val,\n",
        "                                                      train_size = relative_train_size, test_size = 1-relative_train_size)\n",
        "\n",
        "    return X_train, X_val, X_test, y_train, y_val, y_test\n",
        "\n",
        "y_train_arr = train_val_test_split(X,Y,0.3,0.1,0.6)[3]\n",
        "x_train_arr = train_val_test_split(X,Y,0.3,0.1,0.6)[0]\n",
        "y_test_arr = train_val_test_split(X,Y,0.3,0.1,0.6)[5]\n",
        "x_test_arr = train_val_test_split(X,Y,0.3,0.1,0.6)[2]\n",
        "y_val_arr = train_val_test_split(X,Y,0.3,0.1,0.6)[4]\n",
        "x_val_arr = train_val_test_split(X,Y,0.3,0.1,0.6)[1]"
      ],
      "execution_count": null,
      "outputs": []
    },
    {
      "cell_type": "code",
      "metadata": {
        "id": "-2JRNusCeEbK"
      },
      "source": [
        "alpha = 0.0001   #learning rate\n",
        "m = y_train_arr.size  #no. of samples\n",
        "np.random.seed(10)  \n",
        "w = np.random.rand(2)"
      ],
      "execution_count": null,
      "outputs": []
    },
    {
      "cell_type": "code",
      "metadata": {
        "id": "yYVTx9AveI--"
      },
      "source": [
        "def gradient_descent(x, y, m, w,  alpha, rho, epo):\n",
        "    cost_list = []   #to record all cost values to this list\n",
        "    w_list = []  #to record all w_0 and w_1 values to this list \n",
        "    prediction_list = []\n",
        "    run = True\n",
        "    cost_list.append(1e10)    #we append some large value to the cost list\n",
        "    i=0\n",
        "    while run:\n",
        "        prediction = np.dot(x, w)   #predicted y values w_0*x0+w_1*x1\n",
        "        prediction_list.append(prediction)\n",
        "        error = prediction - y          \n",
        "        cost = 1/(2*m) * np.dot(error.T, error)   #  (1/2m)*sum[(error)^2]\n",
        "        cost_list.append(cost)\n",
        "        w = w - (alpha * (1/m) * np.dot(x.T, error))   # alpha * (1/m) * sum[error*x]\n",
        "        w_list.append(w)\n",
        "        if cost_list[i]-cost_list[i+1] < rho:   #checking if the change in cost function is less than rho\n",
        "            run = False\n",
        "        elif i > epo:\n",
        "            run = False\n",
        "        \n",
        "        i+=1\n",
        "    cost_list.pop(0)   # Remove the large number we added in the begining \n",
        "    return prediction_list, cost_list, w_list"
      ],
      "execution_count": null,
      "outputs": []
    },
    {
      "cell_type": "code",
      "metadata": {
        "colab": {
          "base_uri": "https://localhost:8080/"
        },
        "id": "lNOOKJLjeL5W",
        "outputId": "7916d19b-db8f-4732-9098-a8e477c4e657"
      },
      "source": [
        "mse1 = gradient_descent(x_val_arr, y_val_arr, m  , w, 0.1, 0.5 ,10 )[1]\n",
        "mse2 = gradient_descent(x_val_arr, y_val_arr, m  , w, 0.01, 0.6 ,20 )[1]\n",
        "mse3 = gradient_descent(x_val_arr, y_val_arr, m  , w, 0.02, 0.7 ,30 )[1]\n",
        "mse4 = gradient_descent(x_val_arr, y_val_arr, m  , w, 0.03, 0.8 ,40 )[1]\n",
        "mse5 = gradient_descent(x_val_arr, y_val_arr, m  , w, 0.001, 0.9 ,50 )[1]\n",
        "\n",
        "print(mse1[-1])\n",
        "print(mse2[-1])\n",
        "print(mse3[-1])\n",
        "print(mse4[-1])\n",
        "print(mse5[-1])"
      ],
      "execution_count": null,
      "outputs": [
        {
          "output_type": "stream",
          "name": "stdout",
          "text": [
            "610.2903363393721\n",
            "22.34374660483209\n",
            "18.68035375093373\n",
            "56.51042506094726\n",
            "37.31087635914882\n"
          ]
        }
      ]
    }
  ]
}