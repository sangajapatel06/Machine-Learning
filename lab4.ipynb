{
  "nbformat": 4,
  "nbformat_minor": 0,
  "metadata": {
    "colab": {
      "name": "lab4.ipynb",
      "provenance": [],
      "collapsed_sections": [],
      "include_colab_link": true
    },
    "kernelspec": {
      "name": "python3",
      "display_name": "Python 3"
    },
    "language_info": {
      "name": "python"
    }
  },
  "cells": [
    {
      "cell_type": "markdown",
      "metadata": {
        "id": "view-in-github",
        "colab_type": "text"
      },
      "source": [
        "<a href=\"https://colab.research.google.com/github/sangajapatel06/Machine-Learning/blob/main/lab4.ipynb\" target=\"_parent\"><img src=\"https://colab.research.google.com/assets/colab-badge.svg\" alt=\"Open In Colab\"/></a>"
      ]
    },
    {
      "cell_type": "code",
      "metadata": {
        "id": "XXZ2ZAEAdaUi"
      },
      "source": [
        "import pandas as pd"
      ],
      "execution_count": null,
      "outputs": []
    },
    {
      "cell_type": "code",
      "metadata": {
        "colab": {
          "base_uri": "https://localhost:8080/",
          "height": 221
        },
        "id": "5N-WUfZ4dk6b",
        "outputId": "9a6111f1-efc4-4fa6-a58c-47446f1644f2"
      },
      "source": [
        "df = pd.read_excel('/content/drive/MyDrive/Colab Notebooks/assignment 4/slr06.xls')\n",
        "df.head()"
      ],
      "execution_count": null,
      "outputs": [
        {
          "output_type": "stream",
          "text": [
            "*** No CODEPAGE record, no encoding_override: will use 'ascii'\n"
          ],
          "name": "stdout"
        },
        {
          "output_type": "execute_result",
          "data": {
            "text/html": [
              "<div>\n",
              "<style scoped>\n",
              "    .dataframe tbody tr th:only-of-type {\n",
              "        vertical-align: middle;\n",
              "    }\n",
              "\n",
              "    .dataframe tbody tr th {\n",
              "        vertical-align: top;\n",
              "    }\n",
              "\n",
              "    .dataframe thead th {\n",
              "        text-align: right;\n",
              "    }\n",
              "</style>\n",
              "<table border=\"1\" class=\"dataframe\">\n",
              "  <thead>\n",
              "    <tr style=\"text-align: right;\">\n",
              "      <th></th>\n",
              "      <th>X</th>\n",
              "      <th>Y</th>\n",
              "    </tr>\n",
              "  </thead>\n",
              "  <tbody>\n",
              "    <tr>\n",
              "      <th>0</th>\n",
              "      <td>108</td>\n",
              "      <td>392.5</td>\n",
              "    </tr>\n",
              "    <tr>\n",
              "      <th>1</th>\n",
              "      <td>19</td>\n",
              "      <td>46.2</td>\n",
              "    </tr>\n",
              "    <tr>\n",
              "      <th>2</th>\n",
              "      <td>13</td>\n",
              "      <td>15.7</td>\n",
              "    </tr>\n",
              "    <tr>\n",
              "      <th>3</th>\n",
              "      <td>124</td>\n",
              "      <td>422.2</td>\n",
              "    </tr>\n",
              "    <tr>\n",
              "      <th>4</th>\n",
              "      <td>40</td>\n",
              "      <td>119.4</td>\n",
              "    </tr>\n",
              "  </tbody>\n",
              "</table>\n",
              "</div>"
            ],
            "text/plain": [
              "     X      Y\n",
              "0  108  392.5\n",
              "1   19   46.2\n",
              "2   13   15.7\n",
              "3  124  422.2\n",
              "4   40  119.4"
            ]
          },
          "metadata": {},
          "execution_count": 58
        }
      ]
    },
    {
      "cell_type": "code",
      "metadata": {
        "id": "WBNSEd16dsnD"
      },
      "source": [
        "shuffled_df = df.sample(frac=1)\n",
        "train_size = int(50/100 * len(df))\n",
        "validation_size = int(20/100 * len(df))\n",
        "test_size = int(30/100 * len(df))\n",
        "train = shuffled_df[:train_size]\n",
        "validation = shuffled_df[train_size:train_size+validation_size]\n",
        "test = shuffled_df[train_size + validation_size:]"
      ],
      "execution_count": null,
      "outputs": []
    },
    {
      "cell_type": "code",
      "metadata": {
        "colab": {
          "base_uri": "https://localhost:8080/"
        },
        "id": "2K0hGqpieevb",
        "outputId": "2f6bdf19-b8b7-42b1-b9e1-b5b35e985794"
      },
      "source": [
        "print(train_size, validation_size)"
      ],
      "execution_count": null,
      "outputs": [
        {
          "output_type": "stream",
          "text": [
            "31 12\n"
          ],
          "name": "stdout"
        }
      ]
    },
    {
      "cell_type": "code",
      "metadata": {
        "colab": {
          "base_uri": "https://localhost:8080/",
          "height": 1000
        },
        "id": "i268XHAoiqwn",
        "outputId": "e24be076-48a3-42d5-e8f6-47440f50fc59"
      },
      "source": [
        "train"
      ],
      "execution_count": null,
      "outputs": [
        {
          "output_type": "execute_result",
          "data": {
            "text/html": [
              "<div>\n",
              "<style scoped>\n",
              "    .dataframe tbody tr th:only-of-type {\n",
              "        vertical-align: middle;\n",
              "    }\n",
              "\n",
              "    .dataframe tbody tr th {\n",
              "        vertical-align: top;\n",
              "    }\n",
              "\n",
              "    .dataframe thead th {\n",
              "        text-align: right;\n",
              "    }\n",
              "</style>\n",
              "<table border=\"1\" class=\"dataframe\">\n",
              "  <thead>\n",
              "    <tr style=\"text-align: right;\">\n",
              "      <th></th>\n",
              "      <th>X</th>\n",
              "      <th>Y</th>\n",
              "    </tr>\n",
              "  </thead>\n",
              "  <tbody>\n",
              "    <tr>\n",
              "      <th>48</th>\n",
              "      <td>8</td>\n",
              "      <td>76.1</td>\n",
              "    </tr>\n",
              "    <tr>\n",
              "      <th>60</th>\n",
              "      <td>14</td>\n",
              "      <td>95.5</td>\n",
              "    </tr>\n",
              "    <tr>\n",
              "      <th>17</th>\n",
              "      <td>6</td>\n",
              "      <td>50.9</td>\n",
              "    </tr>\n",
              "    <tr>\n",
              "      <th>62</th>\n",
              "      <td>26</td>\n",
              "      <td>187.5</td>\n",
              "    </tr>\n",
              "    <tr>\n",
              "      <th>61</th>\n",
              "      <td>53</td>\n",
              "      <td>244.6</td>\n",
              "    </tr>\n",
              "    <tr>\n",
              "      <th>49</th>\n",
              "      <td>3</td>\n",
              "      <td>39.9</td>\n",
              "    </tr>\n",
              "    <tr>\n",
              "      <th>32</th>\n",
              "      <td>6</td>\n",
              "      <td>14.6</td>\n",
              "    </tr>\n",
              "    <tr>\n",
              "      <th>9</th>\n",
              "      <td>10</td>\n",
              "      <td>65.3</td>\n",
              "    </tr>\n",
              "    <tr>\n",
              "      <th>30</th>\n",
              "      <td>0</td>\n",
              "      <td>0.0</td>\n",
              "    </tr>\n",
              "    <tr>\n",
              "      <th>40</th>\n",
              "      <td>13</td>\n",
              "      <td>89.9</td>\n",
              "    </tr>\n",
              "    <tr>\n",
              "      <th>10</th>\n",
              "      <td>5</td>\n",
              "      <td>20.9</td>\n",
              "    </tr>\n",
              "    <tr>\n",
              "      <th>6</th>\n",
              "      <td>23</td>\n",
              "      <td>56.9</td>\n",
              "    </tr>\n",
              "    <tr>\n",
              "      <th>1</th>\n",
              "      <td>19</td>\n",
              "      <td>46.2</td>\n",
              "    </tr>\n",
              "    <tr>\n",
              "      <th>42</th>\n",
              "      <td>41</td>\n",
              "      <td>181.3</td>\n",
              "    </tr>\n",
              "    <tr>\n",
              "      <th>24</th>\n",
              "      <td>29</td>\n",
              "      <td>103.9</td>\n",
              "    </tr>\n",
              "    <tr>\n",
              "      <th>20</th>\n",
              "      <td>6</td>\n",
              "      <td>14.8</td>\n",
              "    </tr>\n",
              "    <tr>\n",
              "      <th>47</th>\n",
              "      <td>27</td>\n",
              "      <td>92.6</td>\n",
              "    </tr>\n",
              "    <tr>\n",
              "      <th>43</th>\n",
              "      <td>37</td>\n",
              "      <td>152.8</td>\n",
              "    </tr>\n",
              "    <tr>\n",
              "      <th>12</th>\n",
              "      <td>11</td>\n",
              "      <td>23.5</td>\n",
              "    </tr>\n",
              "    <tr>\n",
              "      <th>50</th>\n",
              "      <td>17</td>\n",
              "      <td>142.1</td>\n",
              "    </tr>\n",
              "    <tr>\n",
              "      <th>31</th>\n",
              "      <td>25</td>\n",
              "      <td>69.2</td>\n",
              "    </tr>\n",
              "    <tr>\n",
              "      <th>23</th>\n",
              "      <td>3</td>\n",
              "      <td>13.2</td>\n",
              "    </tr>\n",
              "    <tr>\n",
              "      <th>19</th>\n",
              "      <td>23</td>\n",
              "      <td>113.0</td>\n",
              "    </tr>\n",
              "    <tr>\n",
              "      <th>39</th>\n",
              "      <td>16</td>\n",
              "      <td>59.6</td>\n",
              "    </tr>\n",
              "    <tr>\n",
              "      <th>58</th>\n",
              "      <td>9</td>\n",
              "      <td>87.4</td>\n",
              "    </tr>\n",
              "    <tr>\n",
              "      <th>41</th>\n",
              "      <td>60</td>\n",
              "      <td>202.4</td>\n",
              "    </tr>\n",
              "    <tr>\n",
              "      <th>36</th>\n",
              "      <td>61</td>\n",
              "      <td>217.6</td>\n",
              "    </tr>\n",
              "    <tr>\n",
              "      <th>11</th>\n",
              "      <td>48</td>\n",
              "      <td>248.1</td>\n",
              "    </tr>\n",
              "    <tr>\n",
              "      <th>13</th>\n",
              "      <td>23</td>\n",
              "      <td>39.6</td>\n",
              "    </tr>\n",
              "    <tr>\n",
              "      <th>37</th>\n",
              "      <td>12</td>\n",
              "      <td>58.1</td>\n",
              "    </tr>\n",
              "    <tr>\n",
              "      <th>5</th>\n",
              "      <td>57</td>\n",
              "      <td>170.9</td>\n",
              "    </tr>\n",
              "  </tbody>\n",
              "</table>\n",
              "</div>"
            ],
            "text/plain": [
              "     X      Y\n",
              "48   8   76.1\n",
              "60  14   95.5\n",
              "17   6   50.9\n",
              "62  26  187.5\n",
              "61  53  244.6\n",
              "49   3   39.9\n",
              "32   6   14.6\n",
              "9   10   65.3\n",
              "30   0    0.0\n",
              "40  13   89.9\n",
              "10   5   20.9\n",
              "6   23   56.9\n",
              "1   19   46.2\n",
              "42  41  181.3\n",
              "24  29  103.9\n",
              "20   6   14.8\n",
              "47  27   92.6\n",
              "43  37  152.8\n",
              "12  11   23.5\n",
              "50  17  142.1\n",
              "31  25   69.2\n",
              "23   3   13.2\n",
              "19  23  113.0\n",
              "39  16   59.6\n",
              "58   9   87.4\n",
              "41  60  202.4\n",
              "36  61  217.6\n",
              "11  48  248.1\n",
              "13  23   39.6\n",
              "37  12   58.1\n",
              "5   57  170.9"
            ]
          },
          "metadata": {},
          "execution_count": 61
        }
      ]
    },
    {
      "cell_type": "code",
      "metadata": {
        "id": "93wllI0Pe5g0"
      },
      "source": [
        "w = [1, 1]\n",
        "\n",
        "train = train.values"
      ],
      "execution_count": null,
      "outputs": []
    },
    {
      "cell_type": "code",
      "metadata": {
        "colab": {
          "base_uri": "https://localhost:8080/"
        },
        "id": "tHcW6xYEi_An",
        "outputId": "02f7dd10-b7b1-4a1e-a852-9ac565465268"
      },
      "source": [
        "train[0][1]"
      ],
      "execution_count": null,
      "outputs": [
        {
          "output_type": "execute_result",
          "data": {
            "text/plain": [
              "76.1"
            ]
          },
          "metadata": {},
          "execution_count": 63
        }
      ]
    },
    {
      "cell_type": "code",
      "metadata": {
        "colab": {
          "base_uri": "https://localhost:8080/"
        },
        "id": "ckibvLCxhX-D",
        "outputId": "6e5ed438-0fdd-408b-c8c9-05cb803e4a7b"
      },
      "source": [
        "train_x = []\n",
        "hx = []\n",
        "mse = []\n",
        "for i in range(train_size):\n",
        "  temp = []\n",
        "  temp.append(1)\n",
        "  temp.append(train[i][0])\n",
        "  train_x.append(temp)\n",
        "  \n",
        "  hx.append(w[0]*train_x[i][0] + w[1]*train_x[i][1])\n",
        "\n",
        "sum_ele = 0\n",
        "for i in range(train_size):\n",
        "  sum_ele = sum_ele + pow(hx[i] - train[i][1], 2)\n",
        "\n",
        "train_mse = sum_ele / (2*train_size)\n",
        "print(train_mse)"
      ],
      "execution_count": null,
      "outputs": [
        {
          "output_type": "stream",
          "text": [
            "4216.214838709678\n"
          ],
          "name": "stdout"
        }
      ]
    },
    {
      "cell_type": "code",
      "metadata": {
        "colab": {
          "base_uri": "https://localhost:8080/"
        },
        "id": "brSlgRKYl9U5",
        "outputId": "f881088d-d38a-4743-f216-120bee2c1a51"
      },
      "source": [
        "test = test.values\n",
        "test_x = []\n",
        "hx = []\n",
        "mse = []\n",
        "for i in range(test_size):\n",
        "  temp = []\n",
        "  temp.append(1)\n",
        "  temp.append(test[i][0])\n",
        "  test_x.append(temp)\n",
        "  \n",
        "  hx.append(w[0]*test_x[i][0] + w[1]*test_x[i][1])\n",
        "\n",
        "sum_ele = 0\n",
        "for i in range(test_size):\n",
        "  sum_ele = sum_ele + pow(hx[i] - test[i][1], 2)\n",
        "\n",
        "test_mse = sum_ele / (2*test_size)\n",
        "print(test_mse)"
      ],
      "execution_count": null,
      "outputs": [
        {
          "output_type": "stream",
          "text": [
            "5648.672777777777\n"
          ],
          "name": "stdout"
        }
      ]
    },
    {
      "cell_type": "code",
      "metadata": {
        "colab": {
          "base_uri": "https://localhost:8080/"
        },
        "id": "dhnQ5zZem5KB",
        "outputId": "a7489dbb-22b1-47f8-9eae-98e0f3ae830a"
      },
      "source": [
        "validation = validation.values\n",
        "validation_x = []\n",
        "hx = []\n",
        "mse = []\n",
        "for i in range(validation_size):\n",
        "  temp = []\n",
        "  temp.append(1)\n",
        "  temp.append(validation[i][0])\n",
        "  validation_x.append(temp)\n",
        "  \n",
        "  hx.append(w[0]*validation_x[i][0] + w[1]*validation_x[i][1])\n",
        "\n",
        "sum_ele = 0\n",
        "for i in range(validation_size):\n",
        "  sum_ele = sum_ele + pow(hx[i] - validation[i][1], 2)\n",
        "\n",
        "validation_mse = sum_ele / (2*validation_size)\n",
        "print(validation_mse)"
      ],
      "execution_count": null,
      "outputs": [
        {
          "output_type": "stream",
          "text": [
            "3171.4562500000006\n"
          ],
          "name": "stdout"
        }
      ]
    },
    {
      "cell_type": "code",
      "metadata": {
        "colab": {
          "base_uri": "https://localhost:8080/"
        },
        "id": "wYLnEt8ZoROt",
        "outputId": "b4499ce8-3b30-44a2-fe68-dda04b18e3d2"
      },
      "source": [
        "ans = []\n",
        "\n",
        "for ep in range(train_size):\n",
        "  train_x = []\n",
        "  hx = []\n",
        "  for i in range(train_size):\n",
        "    temp = []\n",
        "    temp.append(1)\n",
        "    temp.append(train[i][0])\n",
        "    train_x.append(temp)\n",
        "    \n",
        "    hx.append(w[0]*train_x[i][0] + w[1]*train_x[i][1])\n",
        "\n",
        "  sum_ele = 0\n",
        "  for i in range(train_size):\n",
        "    sum_ele = sum_ele + pow(hx[i] - train[i][1], 2)\n",
        "\n",
        "  train_mse = sum_ele / (2*train_size)\n",
        "  ans.append(train_mse)\n",
        "  \n",
        "  sum2 = 0\n",
        "  for i in range(train_size):\n",
        "    sum2 = sum2 + (hx[i] - train[i][1])*train_x[i][0]\n",
        "  w[0] = w[0] - (30/100)*sum2\n",
        "\n",
        "  sum2 = 0\n",
        "  for i in range(train_size):\n",
        "    sum2 = sum2 + (hx[i] - train[i][1])*train_x[i][1]\n",
        "  w[1] = w[1] - (30/100)*sum2\n",
        "\n",
        "print(ans)\n",
        "\n",
        "\n"
      ],
      "execution_count": null,
      "outputs": [
        {
          "output_type": "stream",
          "text": [
            "[4216.214838709678, 204022206103.3237, 1.1603925635361477e+19, 6.599825251416942e+26, 3.7537032481925086e+34, 2.1349486598097248e+42, 1.2142690774019294e+50, 6.906252220912612e+57, 3.927986030980239e+65, 2.2340733825005084e+73, 1.2706470539946717e+81, 7.226906459170306e+88, 4.110360686344967e+96, 2.337800422255629e+104, 1.3296426351232165e+112, 7.562448531990613e+119, 4.3012029163540767e+127, 2.4463434626222943e+135, 1.3913773550092567e+143, 7.91356967495229e+150, 4.500905866755884e+158, 2.559926108380371e+166, 1.4559783906546852e+174, 8.28099321739651e+181, 4.709880936882047e+189, 2.678782346180822e+197, 1.5235788238333842e+205, 8.665476072526085e+212, 4.928558627153368e+220, 2.8031570265714075e+228, 1.594317915247178e+236]\n"
          ],
          "name": "stdout"
        }
      ]
    },
    {
      "cell_type": "code",
      "metadata": {
        "colab": {
          "base_uri": "https://localhost:8080/",
          "height": 344
        },
        "id": "tyNk0tE-5W4J",
        "outputId": "5eea9ae1-6cd6-470e-e475-a75622c75fc1"
      },
      "source": [
        "import matplotlib.pyplot as plt\n",
        "epoch = [i+1 for i in range(train_size)]\n",
        "print(ans)\n",
        "plt.plot(epoch, ans)\n",
        "plt.xlabel('epochs')\n",
        "plt.ylabel('train_mse')"
      ],
      "execution_count": null,
      "outputs": [
        {
          "output_type": "stream",
          "text": [
            "[4216.214838709678, 204022206103.3237, 1.1603925635361477e+19, 6.599825251416942e+26, 3.7537032481925086e+34, 2.1349486598097248e+42, 1.2142690774019294e+50, 6.906252220912612e+57, 3.927986030980239e+65, 2.2340733825005084e+73, 1.2706470539946717e+81, 7.226906459170306e+88, 4.110360686344967e+96, 2.337800422255629e+104, 1.3296426351232165e+112, 7.562448531990613e+119, 4.3012029163540767e+127, 2.4463434626222943e+135, 1.3913773550092567e+143, 7.91356967495229e+150, 4.500905866755884e+158, 2.559926108380371e+166, 1.4559783906546852e+174, 8.28099321739651e+181, 4.709880936882047e+189, 2.678782346180822e+197, 1.5235788238333842e+205, 8.665476072526085e+212, 4.928558627153368e+220, 2.8031570265714075e+228, 1.594317915247178e+236]\n"
          ],
          "name": "stdout"
        },
        {
          "output_type": "execute_result",
          "data": {
            "text/plain": [
              "Text(0, 0.5, 'train_mse')"
            ]
          },
          "metadata": {},
          "execution_count": 72
        },
        {
          "output_type": "display_data",
          "data": {
            "image/png": "[encoded data removed]",
            "text/plain": [
              "<Figure size 432x288 with 1 Axes>"
            ]
          },
          "metadata": {
            "needs_background": "light"
          }
        }
      ]
    },
    {
      "cell_type": "code",
      "metadata": {
        "id": "sIB1XzKG53mX"
      },
      "source": [
        ""
      ],
      "execution_count": null,
      "outputs": []
    }
  ]
}